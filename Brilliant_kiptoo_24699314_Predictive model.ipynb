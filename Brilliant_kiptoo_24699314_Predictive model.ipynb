{
 "cells": [
  {
   "cell_type": "markdown",
   "metadata": {},
   "source": [
    "# Data Preparation\n",
    "\n"
   ]
  },
  {
   "cell_type": "code",
   "execution_count": 1,
   "metadata": {},
   "outputs": [],
   "source": [
    "# Load libraries\n",
    "import pandas as pd\n",
    "from sklearn.model_selection import train_test_split\n",
    "from sklearn.linear_model import LinearRegression\n",
    "from sklearn.metrics import mean_squared_error\n",
    "\n"
   ]
  },
  {
   "cell_type": "code",
   "execution_count": 2,
   "metadata": {},
   "outputs": [],
   "source": [
    "# Load data\n",
    "sales_train = pd.read_csv('sales_train.csv')\n",
    "calendar = pd.read_csv('calendar.csv')\n",
    "items = pd.read_csv('items_weekly_sell_prices.csv')\n",
    "events = pd.read_csv('calendar_events.csv')"
   ]
  },
  {
   "cell_type": "code",
   "execution_count": 3,
   "metadata": {},
   "outputs": [],
   "source": [
    "items = items.iloc[:len(sales_train)]"
   ]
  },
  {
   "cell_type": "code",
   "execution_count": 4,
   "metadata": {},
   "outputs": [
    {
     "name": "stdout",
     "output_type": "stream",
     "text": [
      "Number of rows: 30490\n"
     ]
    }
   ],
   "source": [
    "\n",
    "row_count = items.shape[0]\n",
    "print(\"Number of rows:\", row_count)"
   ]
  },
  {
   "cell_type": "code",
   "execution_count": 5,
   "metadata": {},
   "outputs": [],
   "source": [
    "train_data_sales = pd.concat([sales_train, items], axis=1)\n",
    "\n"
   ]
  },
  {
   "cell_type": "code",
   "execution_count": 6,
   "metadata": {},
   "outputs": [
    {
     "name": "stdout",
     "output_type": "stream",
     "text": [
      "Index(['id', 'item_id', 'dept_id', 'cat_id', 'store_id', 'state_id', 'd_1',\n",
      "       'd_2', 'd_3', 'd_4',\n",
      "       ...\n",
      "       'd_1536', 'd_1537', 'd_1538', 'd_1539', 'd_1540', 'd_1541', 'store_id',\n",
      "       'item_id', 'wm_yr_wk', 'sell_price'],\n",
      "      dtype='object', length=1551)\n"
     ]
    }
   ],
   "source": [
    "print(train_data_sales.columns)"
   ]
  },
  {
   "cell_type": "code",
   "execution_count": 7,
   "metadata": {},
   "outputs": [
    {
     "name": "stdout",
     "output_type": "stream",
     "text": [
      "Head:\n",
      "                              id        item_id    dept_id   cat_id  store_id  \\\n",
      "0  HOBBIES_1_001_CA_1_evaluation  HOBBIES_1_001  HOBBIES_1  HOBBIES      CA_1   \n",
      "1  HOBBIES_1_002_CA_1_evaluation  HOBBIES_1_002  HOBBIES_1  HOBBIES      CA_1   \n",
      "2  HOBBIES_1_003_CA_1_evaluation  HOBBIES_1_003  HOBBIES_1  HOBBIES      CA_1   \n",
      "3  HOBBIES_1_004_CA_1_evaluation  HOBBIES_1_004  HOBBIES_1  HOBBIES      CA_1   \n",
      "4  HOBBIES_1_005_CA_1_evaluation  HOBBIES_1_005  HOBBIES_1  HOBBIES      CA_1   \n",
      "\n",
      "  state_id  d_1  d_2  d_3  d_4  ...  d_1536  d_1537  d_1538  d_1539  d_1540  \\\n",
      "0       CA    0    0    0    0  ...       1       0       1       0       0   \n",
      "1       CA    0    0    0    0  ...       0       0       0       0       1   \n",
      "2       CA    0    0    0    0  ...       0       0       0       0       0   \n",
      "3       CA    0    0    0    0  ...       2       3       1       1       3   \n",
      "4       CA    0    0    0    0  ...       2       1       1       2       2   \n",
      "\n",
      "   d_1541  store_id        item_id  wm_yr_wk  sell_price  \n",
      "0       1      CA_1  HOBBIES_1_001     11325        9.58  \n",
      "1       0      CA_1  HOBBIES_1_001     11326        9.58  \n",
      "2       0      CA_1  HOBBIES_1_001     11327        8.26  \n",
      "3       8      CA_1  HOBBIES_1_001     11328        8.26  \n",
      "4       3      CA_1  HOBBIES_1_001     11329        8.26  \n",
      "\n",
      "[5 rows x 1551 columns]\n",
      "\n",
      "Tail:\n",
      "      store_id        item_id  wm_yr_wk  sell_price\n",
      "30485     CA_1  HOBBIES_1_135     11445       20.38\n",
      "30486     CA_1  HOBBIES_1_135     11446       20.38\n",
      "30487     CA_1  HOBBIES_1_135     11447       20.38\n",
      "30488     CA_1  HOBBIES_1_135     11448       20.38\n",
      "30489     CA_1  HOBBIES_1_135     11449       20.38\n"
     ]
    }
   ],
   "source": [
    "print(\"Head:\")\n",
    "print(train_data_sales.head())\n",
    "\n",
    "# View the last few rows using the tail() function\n",
    "print(\"\\nTail:\")\n",
    "print(items.tail())"
   ]
  },
  {
   "cell_type": "code",
   "execution_count": 8,
   "metadata": {},
   "outputs": [],
   "source": [
    "import pandas as pd\n",
    "\n",
    "# Merge training data with calendar data\n",
    "merged_data = train_data_sales.merge(calendar, how='outer')\n"
   ]
  },
  {
   "cell_type": "code",
   "execution_count": 9,
   "metadata": {},
   "outputs": [
    {
     "name": "stdout",
     "output_type": "stream",
     "text": [
      "Head:\n",
      "                              id        item_id    dept_id   cat_id  store_id  \\\n",
      "0  HOBBIES_1_001_CA_1_evaluation  HOBBIES_1_001  HOBBIES_1  HOBBIES      CA_1   \n",
      "1  HOBBIES_1_001_CA_1_evaluation  HOBBIES_1_001  HOBBIES_1  HOBBIES      CA_1   \n",
      "2  HOBBIES_1_001_CA_1_evaluation  HOBBIES_1_001  HOBBIES_1  HOBBIES      CA_1   \n",
      "3  HOBBIES_1_001_CA_1_evaluation  HOBBIES_1_001  HOBBIES_1  HOBBIES      CA_1   \n",
      "4  HOBBIES_1_001_CA_1_evaluation  HOBBIES_1_001  HOBBIES_1  HOBBIES      CA_1   \n",
      "\n",
      "  state_id  d_1  d_2  d_3  d_4  ...  d_1538  d_1539  d_1540  d_1541  store_id  \\\n",
      "0       CA    0    0    0    0  ...       1       0       0       1      CA_1   \n",
      "1       CA    0    0    0    0  ...       1       0       0       1      CA_1   \n",
      "2       CA    0    0    0    0  ...       1       0       0       1      CA_1   \n",
      "3       CA    0    0    0    0  ...       1       0       0       1      CA_1   \n",
      "4       CA    0    0    0    0  ...       1       0       0       1      CA_1   \n",
      "\n",
      "         item_id  wm_yr_wk  sell_price        date      d  \n",
      "0  HOBBIES_1_001     11325        9.58  2013-07-13  d_897  \n",
      "1  HOBBIES_1_001     11325        9.58  2013-07-14  d_898  \n",
      "2  HOBBIES_1_001     11325        9.58  2013-07-15  d_899  \n",
      "3  HOBBIES_1_001     11325        9.58  2013-07-16  d_900  \n",
      "4  HOBBIES_1_001     11325        9.58  2013-07-17  d_901  \n",
      "\n",
      "[5 rows x 1553 columns]\n"
     ]
    }
   ],
   "source": [
    "print(\"Head:\")\n",
    "print(merged_data.head())\n"
   ]
  },
  {
   "cell_type": "code",
   "execution_count": 10,
   "metadata": {},
   "outputs": [],
   "source": [
    "# Select relevant columns\n",
    "selected_columns = ['item_id', 'store_id', 'date', 'sell_price'] + [f'd_{i}' for i in range(1, 250)]\n",
    "sales_data = merged_data[selected_columns]"
   ]
  },
  {
   "cell_type": "code",
   "execution_count": 11,
   "metadata": {},
   "outputs": [],
   "source": [
    "# Check for duplicate column names\n",
    "duplicate_columns = sales_data.columns[sales_data.columns.duplicated()]\n",
    "if len(duplicate_columns) > 0:\n",
    "    sales_data.columns = sales_data.columns.where(~sales_data.columns.duplicated(), \n",
    "                                                  sales_data.columns + '_sales')\n",
    "\n"
   ]
  },
  {
   "cell_type": "code",
   "execution_count": 12,
   "metadata": {},
   "outputs": [],
   "source": [
    "# Reshape data to have one row per sale\n",
    "sales_data_train = sales_data.melt(id_vars=['item_id', 'store_id', 'date', 'sell_price'],\n",
    "                              value_vars=sales_data.columns[4:],\n",
    "                              var_name='day', value_name='sales')"
   ]
  },
  {
   "cell_type": "code",
   "execution_count": 16,
   "metadata": {},
   "outputs": [
    {
     "name": "stderr",
     "output_type": "stream",
     "text": [
      "C:\\Users\\Admin\\AppData\\Local\\Temp\\ipykernel_3156\\1770215685.py:2: SettingWithCopyWarning: \n",
      "A value is trying to be set on a copy of a slice from a DataFrame.\n",
      "Try using .loc[row_indexer,col_indexer] = value instead\n",
      "\n",
      "See the caveats in the documentation: https://pandas.pydata.org/pandas-docs/stable/user_guide/indexing.html#returning-a-view-versus-a-copy\n",
      "  sales_data.loc[:, 'date'] = pd.to_datetime(sales_data['date'])\n",
      "C:\\Users\\Admin\\AppData\\Local\\Temp\\ipykernel_3156\\1770215685.py:2: DeprecationWarning: In a future version, `df.iloc[:, i] = newvals` will attempt to set the values inplace instead of always setting a new array. To retain the old behavior, use either `df[df.columns[i]] = newvals` or, if columns are non-unique, `df.isetitem(i, newvals)`\n",
      "  sales_data.loc[:, 'date'] = pd.to_datetime(sales_data['date'])\n"
     ]
    }
   ],
   "source": [
    "# Convert 'date' column to datetime format\n",
    "sales_data.loc[:, 'date'] = pd.to_datetime(sales_data['date'])\n"
   ]
  },
  {
   "cell_type": "code",
   "execution_count": 19,
   "metadata": {},
   "outputs": [
    {
     "name": "stderr",
     "output_type": "stream",
     "text": [
      "C:\\Users\\Admin\\AppData\\Local\\Temp\\ipykernel_3156\\3671283413.py:2: SettingWithCopyWarning: \n",
      "A value is trying to be set on a copy of a slice from a DataFrame\n",
      "\n",
      "See the caveats in the documentation: https://pandas.pydata.org/pandas-docs/stable/user_guide/indexing.html#returning-a-view-versus-a-copy\n",
      "  sales_data.sort_values(by=['item_id', 'store_id', 'date'], inplace=True)\n"
     ]
    }
   ],
   "source": [
    "# Sort the data by date\n",
    "sales_data.sort_values(by=['item_id', 'store_id', 'date'], inplace=True)\n",
    "\n"
   ]
  },
  {
   "cell_type": "code",
   "execution_count": 20,
   "metadata": {},
   "outputs": [],
   "source": [
    "# Reset index\n",
    "sales_data.reset_index(drop=True, inplace=True)"
   ]
  },
  {
   "cell_type": "code",
   "execution_count": 21,
   "metadata": {},
   "outputs": [
    {
     "name": "stdout",
     "output_type": "stream",
     "text": [
      "       item_id  item_id_sales store_id store_id_sales       date  sell_price  \\\n",
      "0  FOODS_1_001  HOBBIES_1_008     CA_1           CA_1 2012-12-29         0.5   \n",
      "1  FOODS_1_001  HOBBIES_1_008     CA_1           CA_1 2012-12-30         0.5   \n",
      "2  FOODS_1_001  HOBBIES_1_008     CA_1           CA_1 2012-12-31         0.5   \n",
      "3  FOODS_1_001  HOBBIES_1_008     CA_1           CA_1 2013-01-01         0.5   \n",
      "4  FOODS_1_001  HOBBIES_1_008     CA_1           CA_1 2013-01-02         0.5   \n",
      "\n",
      "   d_1  d_2  d_3  d_4  ...  d_240  d_241  d_242  d_243  d_244  d_245  d_246  \\\n",
      "0    3    0    0    1  ...      0      0      0      0      0      0      0   \n",
      "1    3    0    0    1  ...      0      0      0      0      0      0      0   \n",
      "2    3    0    0    1  ...      0      0      0      0      0      0      0   \n",
      "3    3    0    0    1  ...      0      0      0      0      0      0      0   \n",
      "4    3    0    0    1  ...      0      0      0      0      0      0      0   \n",
      "\n",
      "   d_247  d_248  d_249  \n",
      "0      0      0      0  \n",
      "1      0      0      0  \n",
      "2      0      0      0  \n",
      "3      0      0      0  \n",
      "4      0      0      0  \n",
      "\n",
      "[5 rows x 255 columns]\n"
     ]
    }
   ],
   "source": [
    "print(sales_data.head())\n"
   ]
  },
  {
   "cell_type": "markdown",
   "metadata": {},
   "source": [
    " # Feature Engineering"
   ]
  },
  {
   "cell_type": "code",
   "execution_count": 26,
   "metadata": {},
   "outputs": [
    {
     "name": "stdout",
     "output_type": "stream",
     "text": [
      "         date     event_name event_type\n",
      "0  2011-02-06      SuperBowl   Sporting\n",
      "1  2011-02-14  ValentinesDay   Cultural\n",
      "2  2011-02-21  PresidentsDay   National\n",
      "3  2011-03-09      LentStart  Religious\n"
     ]
    }
   ],
   "source": [
    "print(events.head(4))"
   ]
  },
  {
   "cell_type": "code",
   "execution_count": 28,
   "metadata": {},
   "outputs": [
    {
     "name": "stderr",
     "output_type": "stream",
     "text": [
      "C:\\Users\\Admin\\AppData\\Local\\Temp\\ipykernel_3156\\3375624579.py:2: SettingWithCopyWarning: \n",
      "A value is trying to be set on a copy of a slice from a DataFrame.\n",
      "Try using .loc[row_indexer,col_indexer] = value instead\n",
      "\n",
      "See the caveats in the documentation: https://pandas.pydata.org/pandas-docs/stable/user_guide/indexing.html#returning-a-view-versus-a-copy\n",
      "  sales_data['date'] = pd.to_datetime(sales_data['date'])\n"
     ]
    }
   ],
   "source": [
    "# Convert 'date' column in both DataFrames to datetime format\n",
    "sales_data['date'] = pd.to_datetime(sales_data['date'])\n",
    "events['date'] = pd.to_datetime(events['date'])"
   ]
  },
  {
   "cell_type": "code",
   "execution_count": 29,
   "metadata": {},
   "outputs": [
    {
     "name": "stderr",
     "output_type": "stream",
     "text": [
      "C:\\Users\\Admin\\AppData\\Local\\Temp\\ipykernel_3156\\2796835567.py:3: SettingWithCopyWarning: \n",
      "A value is trying to be set on a copy of a slice from a DataFrame.\n",
      "Try using .loc[row_indexer,col_indexer] = value instead\n",
      "\n",
      "See the caveats in the documentation: https://pandas.pydata.org/pandas-docs/stable/user_guide/indexing.html#returning-a-view-versus-a-copy\n",
      "  sales_data[f'lag_{lag}_sales'] = sales_data.groupby(['item_id', 'store_id'])['d_1'].shift(lag)\n",
      "C:\\Users\\Admin\\AppData\\Local\\Temp\\ipykernel_3156\\2796835567.py:3: SettingWithCopyWarning: \n",
      "A value is trying to be set on a copy of a slice from a DataFrame.\n",
      "Try using .loc[row_indexer,col_indexer] = value instead\n",
      "\n",
      "See the caveats in the documentation: https://pandas.pydata.org/pandas-docs/stable/user_guide/indexing.html#returning-a-view-versus-a-copy\n",
      "  sales_data[f'lag_{lag}_sales'] = sales_data.groupby(['item_id', 'store_id'])['d_1'].shift(lag)\n",
      "C:\\Users\\Admin\\AppData\\Local\\Temp\\ipykernel_3156\\2796835567.py:3: SettingWithCopyWarning: \n",
      "A value is trying to be set on a copy of a slice from a DataFrame.\n",
      "Try using .loc[row_indexer,col_indexer] = value instead\n",
      "\n",
      "See the caveats in the documentation: https://pandas.pydata.org/pandas-docs/stable/user_guide/indexing.html#returning-a-view-versus-a-copy\n",
      "  sales_data[f'lag_{lag}_sales'] = sales_data.groupby(['item_id', 'store_id'])['d_1'].shift(lag)\n",
      "C:\\Users\\Admin\\AppData\\Local\\Temp\\ipykernel_3156\\2796835567.py:3: SettingWithCopyWarning: \n",
      "A value is trying to be set on a copy of a slice from a DataFrame.\n",
      "Try using .loc[row_indexer,col_indexer] = value instead\n",
      "\n",
      "See the caveats in the documentation: https://pandas.pydata.org/pandas-docs/stable/user_guide/indexing.html#returning-a-view-versus-a-copy\n",
      "  sales_data[f'lag_{lag}_sales'] = sales_data.groupby(['item_id', 'store_id'])['d_1'].shift(lag)\n",
      "C:\\Users\\Admin\\AppData\\Local\\Temp\\ipykernel_3156\\2796835567.py:3: SettingWithCopyWarning: \n",
      "A value is trying to be set on a copy of a slice from a DataFrame.\n",
      "Try using .loc[row_indexer,col_indexer] = value instead\n",
      "\n",
      "See the caveats in the documentation: https://pandas.pydata.org/pandas-docs/stable/user_guide/indexing.html#returning-a-view-versus-a-copy\n",
      "  sales_data[f'lag_{lag}_sales'] = sales_data.groupby(['item_id', 'store_id'])['d_1'].shift(lag)\n",
      "C:\\Users\\Admin\\AppData\\Local\\Temp\\ipykernel_3156\\2796835567.py:3: SettingWithCopyWarning: \n",
      "A value is trying to be set on a copy of a slice from a DataFrame.\n",
      "Try using .loc[row_indexer,col_indexer] = value instead\n",
      "\n",
      "See the caveats in the documentation: https://pandas.pydata.org/pandas-docs/stable/user_guide/indexing.html#returning-a-view-versus-a-copy\n",
      "  sales_data[f'lag_{lag}_sales'] = sales_data.groupby(['item_id', 'store_id'])['d_1'].shift(lag)\n",
      "C:\\Users\\Admin\\AppData\\Local\\Temp\\ipykernel_3156\\2796835567.py:3: SettingWithCopyWarning: \n",
      "A value is trying to be set on a copy of a slice from a DataFrame.\n",
      "Try using .loc[row_indexer,col_indexer] = value instead\n",
      "\n",
      "See the caveats in the documentation: https://pandas.pydata.org/pandas-docs/stable/user_guide/indexing.html#returning-a-view-versus-a-copy\n",
      "  sales_data[f'lag_{lag}_sales'] = sales_data.groupby(['item_id', 'store_id'])['d_1'].shift(lag)\n"
     ]
    }
   ],
   "source": [
    "\n",
    "# Create lag features for sales\n",
    "for lag in range(1, 8):\n",
    "    sales_data[f'lag_{lag}_sales'] = sales_data.groupby(['item_id', 'store_id'])['d_1'].shift(lag)\n"
   ]
  },
  {
   "cell_type": "code",
   "execution_count": 30,
   "metadata": {},
   "outputs": [
    {
     "name": "stderr",
     "output_type": "stream",
     "text": [
      "C:\\Users\\Admin\\AppData\\Local\\Temp\\ipykernel_3156\\4076940478.py:2: SettingWithCopyWarning: \n",
      "A value is trying to be set on a copy of a slice from a DataFrame.\n",
      "Try using .loc[row_indexer,col_indexer] = value instead\n",
      "\n",
      "See the caveats in the documentation: https://pandas.pydata.org/pandas-docs/stable/user_guide/indexing.html#returning-a-view-versus-a-copy\n",
      "  sales_data['day_of_week'] = sales_data['date'].dt.dayofweek\n",
      "C:\\Users\\Admin\\AppData\\Local\\Temp\\ipykernel_3156\\4076940478.py:5: SettingWithCopyWarning: \n",
      "A value is trying to be set on a copy of a slice from a DataFrame.\n",
      "Try using .loc[row_indexer,col_indexer] = value instead\n",
      "\n",
      "See the caveats in the documentation: https://pandas.pydata.org/pandas-docs/stable/user_guide/indexing.html#returning-a-view-versus-a-copy\n",
      "  sales_data['is_weekend'] = (sales_data['day_of_week'] >= 5).astype(int)\n"
     ]
    }
   ],
   "source": [
    "# Extract day of the week\n",
    "sales_data['day_of_week'] = sales_data['date'].dt.dayofweek\n",
    "\n",
    "# Create a feature for whether it's a weekend (0 for weekdays, 1 for weekends)\n",
    "sales_data['is_weekend'] = (sales_data['day_of_week'] >= 5).astype(int)\n",
    "\n",
    "# Merge with calendar events data\n",
    "sales_data = sales_data.merge(events, on='date', how='left')\n",
    "\n",
    "# Create an event indicator (1 if an event, 0 otherwise)\n",
    "sales_data['event_indicator'] = sales_data['event_name'].notnull().astype(int)"
   ]
  },
  {
   "cell_type": "code",
   "execution_count": 35,
   "metadata": {},
   "outputs": [
    {
     "name": "stdout",
     "output_type": "stream",
     "text": [
      "       item_id  item_id_sales store_id store_id_sales       date  sell_price  \\\n",
      "0  FOODS_1_001  HOBBIES_1_008     CA_1           CA_1 2012-12-29        0.50   \n",
      "1  FOODS_1_001  HOBBIES_1_008     CA_1           CA_1 2012-12-30        0.50   \n",
      "2  FOODS_1_001  HOBBIES_1_008     CA_1           CA_1 2012-12-31        0.50   \n",
      "3  FOODS_1_001  HOBBIES_1_008     CA_1           CA_1 2013-01-01        0.50   \n",
      "4  FOODS_1_001  HOBBIES_1_008     CA_1           CA_1 2013-01-02        0.50   \n",
      "5  FOODS_1_001  HOBBIES_1_008     CA_1           CA_1 2013-01-03        0.50   \n",
      "6  FOODS_1_001  HOBBIES_1_008     CA_1           CA_1 2013-01-04        0.50   \n",
      "7  FOODS_1_001  HOBBIES_1_020     CA_2           CA_1 2012-12-15       11.68   \n",
      "8  FOODS_1_001  HOBBIES_1_020     CA_2           CA_1 2012-12-16       11.68   \n",
      "9  FOODS_1_001  HOBBIES_1_020     CA_2           CA_1 2012-12-17       11.68   \n",
      "\n",
      "   d_1  d_2  d_3  d_4  ...  lag_3_sales  lag_4_sales  lag_5_sales  \\\n",
      "0    3    0    0    1  ...          0.0          0.0          0.0   \n",
      "1    3    0    0    1  ...          0.0          0.0          0.0   \n",
      "2    3    0    0    1  ...          0.0          0.0          0.0   \n",
      "3    3    0    0    1  ...          3.0          0.0          0.0   \n",
      "4    3    0    0    1  ...          3.0          3.0          0.0   \n",
      "5    3    0    0    1  ...          3.0          3.0          3.0   \n",
      "6    3    0    0    1  ...          3.0          3.0          3.0   \n",
      "7    2    0    0    0  ...          0.0          0.0          0.0   \n",
      "8    2    0    0    0  ...          0.0          0.0          0.0   \n",
      "9    2    0    0    0  ...          0.0          0.0          0.0   \n",
      "\n",
      "   lag_6_sales  lag_7_sales  day_of_week  is_weekend    event_name  \\\n",
      "0          0.0          0.0            5           1           NaN   \n",
      "1          0.0          0.0            6           1           NaN   \n",
      "2          0.0          0.0            0           0           NaN   \n",
      "3          0.0          0.0            1           0       NewYear   \n",
      "4          0.0          0.0            2           0           NaN   \n",
      "5          0.0          0.0            3           0           NaN   \n",
      "6          3.0          0.0            4           0           NaN   \n",
      "7          0.0          0.0            5           1           NaN   \n",
      "8          0.0          0.0            6           1  Chanukah End   \n",
      "9          0.0          0.0            0           0           NaN   \n",
      "\n",
      "   event_type  event_indicator  \n",
      "0         NaN                0  \n",
      "1         NaN                0  \n",
      "2         NaN                0  \n",
      "3    National                1  \n",
      "4         NaN                0  \n",
      "5         NaN                0  \n",
      "6         NaN                0  \n",
      "7         NaN                0  \n",
      "8   Religious                1  \n",
      "9         NaN                0  \n",
      "\n",
      "[10 rows x 267 columns]\n"
     ]
    }
   ],
   "source": [
    "print(sales_data.head(10))"
   ]
  },
  {
   "cell_type": "code",
   "execution_count": 36,
   "metadata": {},
   "outputs": [],
   "source": [
    "sales_data['lag_1_sales'].fillna(0, inplace=True)\n",
    "sales_data['lag_2_sales'].fillna(0, inplace=True)\n",
    "sales_data['lag_3_sales'].fillna(0, inplace=True)\n",
    "sales_data['lag_4_sales'].fillna(0, inplace=True)\n",
    "sales_data['lag_5_sales'].fillna(0, inplace=True)\n",
    "sales_data['lag_6_sales'].fillna(0, inplace=True)\n",
    "sales_data['lag_7_sales'].fillna(0, inplace=True)"
   ]
  },
  {
   "cell_type": "markdown",
   "metadata": {},
   "source": [
    "# Model Selection and Training"
   ]
  },
  {
   "cell_type": "code",
   "execution_count": 37,
   "metadata": {},
   "outputs": [],
   "source": [
    "from sklearn.model_selection import train_test_split\n",
    "from sklearn.linear_model import LinearRegression\n",
    "from sklearn.metrics import mean_absolute_error"
   ]
  },
  {
   "cell_type": "code",
   "execution_count": 40,
   "metadata": {},
   "outputs": [],
   "source": [
    "# Select features and target variable\n",
    "features = ['sell_price', 'lag_1_sales', 'lag_2_sales', 'lag_3_sales', 'day_of_week', 'is_weekend', 'event_indicator']\n",
    "target = 'd_1'"
   ]
  },
  {
   "cell_type": "code",
   "execution_count": 41,
   "metadata": {},
   "outputs": [],
   "source": [
    "# Split the data into training and validation sets\n",
    "X_train, X_valid, y_train, y_valid = train_test_split(sales_data[features], sales_data[target], test_size=0.2, random_state=42)"
   ]
  },
  {
   "cell_type": "code",
   "execution_count": 57,
   "metadata": {},
   "outputs": [
    {
     "data": {
      "text/html": [
       "<style>#sk-container-id-2 {color: black;}#sk-container-id-2 pre{padding: 0;}#sk-container-id-2 div.sk-toggleable {background-color: white;}#sk-container-id-2 label.sk-toggleable__label {cursor: pointer;display: block;width: 100%;margin-bottom: 0;padding: 0.3em;box-sizing: border-box;text-align: center;}#sk-container-id-2 label.sk-toggleable__label-arrow:before {content: \"▸\";float: left;margin-right: 0.25em;color: #696969;}#sk-container-id-2 label.sk-toggleable__label-arrow:hover:before {color: black;}#sk-container-id-2 div.sk-estimator:hover label.sk-toggleable__label-arrow:before {color: black;}#sk-container-id-2 div.sk-toggleable__content {max-height: 0;max-width: 0;overflow: hidden;text-align: left;background-color: #f0f8ff;}#sk-container-id-2 div.sk-toggleable__content pre {margin: 0.2em;color: black;border-radius: 0.25em;background-color: #f0f8ff;}#sk-container-id-2 input.sk-toggleable__control:checked~div.sk-toggleable__content {max-height: 200px;max-width: 100%;overflow: auto;}#sk-container-id-2 input.sk-toggleable__control:checked~label.sk-toggleable__label-arrow:before {content: \"▾\";}#sk-container-id-2 div.sk-estimator input.sk-toggleable__control:checked~label.sk-toggleable__label {background-color: #d4ebff;}#sk-container-id-2 div.sk-label input.sk-toggleable__control:checked~label.sk-toggleable__label {background-color: #d4ebff;}#sk-container-id-2 input.sk-hidden--visually {border: 0;clip: rect(1px 1px 1px 1px);clip: rect(1px, 1px, 1px, 1px);height: 1px;margin: -1px;overflow: hidden;padding: 0;position: absolute;width: 1px;}#sk-container-id-2 div.sk-estimator {font-family: monospace;background-color: #f0f8ff;border: 1px dotted black;border-radius: 0.25em;box-sizing: border-box;margin-bottom: 0.5em;}#sk-container-id-2 div.sk-estimator:hover {background-color: #d4ebff;}#sk-container-id-2 div.sk-parallel-item::after {content: \"\";width: 100%;border-bottom: 1px solid gray;flex-grow: 1;}#sk-container-id-2 div.sk-label:hover label.sk-toggleable__label {background-color: #d4ebff;}#sk-container-id-2 div.sk-serial::before {content: \"\";position: absolute;border-left: 1px solid gray;box-sizing: border-box;top: 0;bottom: 0;left: 50%;z-index: 0;}#sk-container-id-2 div.sk-serial {display: flex;flex-direction: column;align-items: center;background-color: white;padding-right: 0.2em;padding-left: 0.2em;position: relative;}#sk-container-id-2 div.sk-item {position: relative;z-index: 1;}#sk-container-id-2 div.sk-parallel {display: flex;align-items: stretch;justify-content: center;background-color: white;position: relative;}#sk-container-id-2 div.sk-item::before, #sk-container-id-2 div.sk-parallel-item::before {content: \"\";position: absolute;border-left: 1px solid gray;box-sizing: border-box;top: 0;bottom: 0;left: 50%;z-index: -1;}#sk-container-id-2 div.sk-parallel-item {display: flex;flex-direction: column;z-index: 1;position: relative;background-color: white;}#sk-container-id-2 div.sk-parallel-item:first-child::after {align-self: flex-end;width: 50%;}#sk-container-id-2 div.sk-parallel-item:last-child::after {align-self: flex-start;width: 50%;}#sk-container-id-2 div.sk-parallel-item:only-child::after {width: 0;}#sk-container-id-2 div.sk-dashed-wrapped {border: 1px dashed gray;margin: 0 0.4em 0.5em 0.4em;box-sizing: border-box;padding-bottom: 0.4em;background-color: white;}#sk-container-id-2 div.sk-label label {font-family: monospace;font-weight: bold;display: inline-block;line-height: 1.2em;}#sk-container-id-2 div.sk-label-container {text-align: center;}#sk-container-id-2 div.sk-container {/* jupyter's `normalize.less` sets `[hidden] { display: none; }` but bootstrap.min.css set `[hidden] { display: none !important; }` so we also need the `!important` here to be able to override the default hidden behavior on the sphinx rendered scikit-learn.org. See: https://github.com/scikit-learn/scikit-learn/issues/21755 */display: inline-block !important;position: relative;}#sk-container-id-2 div.sk-text-repr-fallback {display: none;}</style><div id=\"sk-container-id-2\" class=\"sk-top-container\"><div class=\"sk-text-repr-fallback\"><pre>LinearRegression()</pre><b>In a Jupyter environment, please rerun this cell to show the HTML representation or trust the notebook. <br />On GitHub, the HTML representation is unable to render, please try loading this page with nbviewer.org.</b></div><div class=\"sk-container\" hidden><div class=\"sk-item\"><div class=\"sk-estimator sk-toggleable\"><input class=\"sk-toggleable__control sk-hidden--visually\" id=\"sk-estimator-id-2\" type=\"checkbox\" checked><label for=\"sk-estimator-id-2\" class=\"sk-toggleable__label sk-toggleable__label-arrow\">LinearRegression</label><div class=\"sk-toggleable__content\"><pre>LinearRegression()</pre></div></div></div></div></div>"
      ],
      "text/plain": [
       "LinearRegression()"
      ]
     },
     "execution_count": 57,
     "metadata": {},
     "output_type": "execute_result"
    }
   ],
   "source": [
    "# Initialize and train the model \n",
    "L_model = LinearRegression()\n",
    "L_model.fit(X_train, y_train)"
   ]
  },
  {
   "cell_type": "code",
   "execution_count": 58,
   "metadata": {},
   "outputs": [
    {
     "name": "stdout",
     "output_type": "stream",
     "text": [
      " linear regression MAE: 0.31488925497608133\n"
     ]
    }
   ],
   "source": [
    "# Make predictions on the validation set\n",
    "y_pred = model.predict(X_valid)\n",
    "\n",
    "# Calculate Mean Absolute Error (MAE)\n",
    "mae = mean_absolute_error(y_valid, y_pred)\n",
    "print(f' linear regression MAE: {mae}')"
   ]
  },
  {
   "cell_type": "markdown",
   "metadata": {},
   "source": [
    "### Comparison Model"
   ]
  },
  {
   "cell_type": "code",
   "execution_count": 44,
   "metadata": {},
   "outputs": [
    {
     "name": "stdout",
     "output_type": "stream",
     "text": [
      "Random Forest MAE: 0.2338010426243403\n"
     ]
    }
   ],
   "source": [
    "from sklearn.ensemble import RandomForestRegressor\n",
    "\n",
    "# Initialize and train the Random Forest Regressor model\n",
    "rf_model = RandomForestRegressor(n_estimators=100, random_state=42)\n",
    "rf_model.fit(X_train, y_train)\n",
    "\n",
    "# Make predictions on the validation set using the Random Forest model\n",
    "rf_y_pred = rf_model.predict(X_valid)\n",
    "\n",
    "# Calculate Mean Absolute Error (MAE) for the Random Forest model\n",
    "rf_mae = mean_absolute_error(y_valid, rf_y_pred)\n",
    "print(f'Random Forest MAE: {rf_mae}')\n"
   ]
  },
  {
   "cell_type": "code",
   "execution_count": 61,
   "metadata": {},
   "outputs": [
    {
     "data": {
      "text/plain": [
       "['best_Linear_regression_model.pkl']"
      ]
     },
     "execution_count": 61,
     "metadata": {},
     "output_type": "execute_result"
    }
   ],
   "source": [
    "# Save the trained model to a file\n",
    "import joblib\n",
    "\n",
    "joblib.dump(rf_model, 'best_random_forest_model.pkl')\n",
    "\n",
    "\n",
    "joblib.dump(L_model, 'best_Linear_regression_model.pkl')\n",
    "\n"
   ]
  },
  {
   "cell_type": "markdown",
   "metadata": {},
   "source": [
    "#  Deployment as an API"
   ]
  },
  {
   "cell_type": "code",
   "execution_count": 54,
   "metadata": {},
   "outputs": [
    {
     "name": "stdout",
     "output_type": "stream",
     "text": [
      "Requirement already satisfied: Flask in c:\\users\\admin\\anaconda3\\lib\\site-packages (2.2.2)Note: you may need to restart the kernel to use updated packages.\n",
      "\n",
      "Requirement already satisfied: Werkzeug>=2.2.2 in c:\\users\\admin\\anaconda3\\lib\\site-packages (from Flask) (2.2.3)\n",
      "Requirement already satisfied: Jinja2>=3.0 in c:\\users\\admin\\anaconda3\\lib\\site-packages (from Flask) (3.1.2)\n",
      "Requirement already satisfied: itsdangerous>=2.0 in c:\\users\\admin\\anaconda3\\lib\\site-packages (from Flask) (2.0.1)\n",
      "Requirement already satisfied: click>=8.0 in c:\\users\\admin\\anaconda3\\lib\\site-packages (from Flask) (8.0.4)\n",
      "Requirement already satisfied: colorama in c:\\users\\admin\\anaconda3\\lib\\site-packages (from click>=8.0->Flask) (0.4.6)\n",
      "Requirement already satisfied: MarkupSafe>=2.0 in c:\\users\\admin\\anaconda3\\lib\\site-packages (from Jinja2>=3.0->Flask) (2.1.1)\n"
     ]
    }
   ],
   "source": [
    "pip install Flask\n"
   ]
  },
  {
   "cell_type": "code",
   "execution_count": 62,
   "metadata": {},
   "outputs": [],
   "source": [
    "from flask import Flask, request, jsonify\n",
    "import joblib  # Used for model persistence\n",
    "\n",
    "app = Flask(__name__)\n",
    "\n"
   ]
  },
  {
   "cell_type": "code",
   "execution_count": 63,
   "metadata": {},
   "outputs": [
    {
     "name": "stdout",
     "output_type": "stream",
     "text": [
      " * Serving Flask app '__main__'\n",
      " * Debug mode: on\n"
     ]
    },
    {
     "name": "stderr",
     "output_type": "stream",
     "text": [
      "WARNING: This is a development server. Do not use it in a production deployment. Use a production WSGI server instead.\n",
      " * Running on http://127.0.0.1:5000\n",
      "Press CTRL+C to quit\n",
      " * Restarting with watchdog (windowsapi)\n"
     ]
    },
    {
     "ename": "SystemExit",
     "evalue": "1",
     "output_type": "error",
     "traceback": [
      "An exception has occurred, use %tb to see the full traceback.\n",
      "\u001b[1;31mSystemExit\u001b[0m\u001b[1;31m:\u001b[0m 1\n"
     ]
    },
    {
     "name": "stderr",
     "output_type": "stream",
     "text": [
      "c:\\Users\\Admin\\anaconda3\\Lib\\site-packages\\IPython\\core\\interactiveshell.py:3513: UserWarning: To exit: use 'exit', 'quit', or Ctrl-D.\n",
      "  warn(\"To exit: use 'exit', 'quit', or Ctrl-D.\", stacklevel=1)\n"
     ]
    }
   ],
   "source": [
    "# Load your trained model \n",
    "rf_modelmodel = joblib.load('best_random_forest_model.pkl')\n",
    "\n",
    "@app.route('/predict', methods=['POST'])\n",
    "def predict_sales():\n",
    "    try:\n",
    "        # Get input data from JSON request\n",
    "        data = request.get_json()\n",
    "\n",
    "        # Prepare input data (must match the features used for training)\n",
    "        input_features = [data['sell_price'], data['lag_1_sales'], data['lag_2_sales'],\n",
    "                          data['lag_3_sales'], data['day_of_week'], data['is_weekend'],\n",
    "                          data['event_indicator']]\n",
    "\n",
    "        # Make a prediction using the loaded model\n",
    "        predicted_sales = model.predict([input_features])[0]\n",
    "\n",
    "        # Create a response JSON\n",
    "        response = {'predicted_sales': predicted_sales}\n",
    "\n",
    "        return jsonify(response)\n",
    "\n",
    "    except Exception as e:\n",
    "        return jsonify({'error': str(e)})\n",
    "\n",
    "if __name__ == '__main__':\n",
    "    app.run(debug=True)\n"
   ]
  }
 ],
 "metadata": {
  "kernelspec": {
   "display_name": "base",
   "language": "python",
   "name": "python3"
  },
  "language_info": {
   "codemirror_mode": {
    "name": "ipython",
    "version": 3
   },
   "file_extension": ".py",
   "mimetype": "text/x-python",
   "name": "python",
   "nbconvert_exporter": "python",
   "pygments_lexer": "ipython3",
   "version": "3.11.4"
  },
  "orig_nbformat": 4
 },
 "nbformat": 4,
 "nbformat_minor": 2
}
